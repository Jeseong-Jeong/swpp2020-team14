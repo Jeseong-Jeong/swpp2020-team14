{
 "cells": [
  {
   "cell_type": "code",
   "execution_count": 1,
   "metadata": {},
   "outputs": [],
   "source": [
    "import importlib\n",
    "import random\n",
    "import os"
   ]
  },
  {
   "cell_type": "code",
   "execution_count": 2,
   "metadata": {},
   "outputs": [],
   "source": [
    "from PIL import Image, ImageDraw, ImageFont\n",
    "import matplotlib.pyplot as plt\n",
    "import numpy as np"
   ]
  },
  {
   "cell_type": "code",
   "execution_count": 3,
   "metadata": {},
   "outputs": [],
   "source": [
    "import dataset\n",
    "import texts\n",
    "import config\n",
    "import model\n",
    "from config import *"
   ]
  },
  {
   "cell_type": "code",
   "execution_count": 4,
   "metadata": {},
   "outputs": [],
   "source": [
    "importlib.reload(dataset)\n",
    "importlib.reload(texts)\n",
    "importlib.reload(config)\n",
    "importlib.reload(model)\n",
    "from config import *"
   ]
  },
  {
   "cell_type": "code",
   "execution_count": 5,
   "metadata": {},
   "outputs": [],
   "source": [
    "ds = dataset.generate_dataset(10)"
   ]
  },
  {
   "cell_type": "code",
   "execution_count": 6,
   "metadata": {},
   "outputs": [
    {
     "data": {
      "image/png": "[encoded data removed]",
      "text/plain": [
       "<Figure size 432x288 with 10 Axes>"
      ]
     },
     "metadata": {
      "needs_background": "light"
     },
     "output_type": "display_data"
    }
   ],
   "source": [
    "fig = plt.figure()\n",
    "for i in range(ds[0].shape[0]):\n",
    "    ax = plt.subplot(5, 2, 1+i)\n",
    "    ax.imshow(Image.fromarray((ds[0][i]*255).clip(0, 255).astype(np.uint8).squeeze()))\n",
    "    ax.set_xlabel(ds[1][i])"
   ]
  },
  {
   "cell_type": "code",
   "execution_count": 7,
   "metadata": {},
   "outputs": [],
   "source": [
    "def train_1epoch(model):\n",
    "    ds_img, ds_lbl = dataset.generate_dataset()\n",
    "    model.fit(ds_img, ds_lbl, epochs=1)"
   ]
  },
  {
   "cell_type": "code",
   "execution_count": 8,
   "metadata": {},
   "outputs": [],
   "source": [
    "def build_model():\n",
    "    mdl = model.get_model()\n",
    "    mdl.compile(optimizer='adam',\n",
    "                loss='sparse_categorical_crossentropy',\n",
    "                metrics=['accuracy'])\n",
    "    return mdl"
   ]
  },
  {
   "cell_type": "code",
   "execution_count": 9,
   "metadata": {},
   "outputs": [],
   "source": [
    "mdl = build_model()"
   ]
  },
  {
   "cell_type": "code",
   "execution_count": 10,
   "metadata": {},
   "outputs": [
    {
     "name": "stdout",
     "output_type": "stream",
     "text": [
      "32/32 [==============================] - 1s 27ms/step - loss: 0.9480 - accuracy: 0.6860\n",
      "32/32 [==============================] - 1s 22ms/step - loss: 0.3993 - accuracy: 0.8350\n",
      "32/32 [==============================] - 1s 22ms/step - loss: 0.3557 - accuracy: 0.8680\n",
      "32/32 [==============================] - 1s 22ms/step - loss: 0.2863 - accuracy: 0.8990\n",
      "32/32 [==============================] - 1s 22ms/step - loss: 0.1936 - accuracy: 0.9310\n",
      "32/32 [==============================] - 1s 22ms/step - loss: 0.3792 - accuracy: 0.8920\n",
      "32/32 [==============================] - 1s 22ms/step - loss: 0.1393 - accuracy: 0.9560\n",
      "32/32 [==============================] - 1s 22ms/step - loss: 0.1687 - accuracy: 0.9330\n",
      "32/32 [==============================] - 1s 22ms/step - loss: 0.0874 - accuracy: 0.9700\n",
      "32/32 [==============================] - 1s 22ms/step - loss: 0.0806 - accuracy: 0.9720\n"
     ]
    }
   ],
   "source": [
    "for i in range(10):\n",
    "    train_1epoch(mdl)"
   ]
  },
  {
   "cell_type": "code",
   "execution_count": 11,
   "metadata": {},
   "outputs": [
    {
     "name": "stdout",
     "output_type": "stream",
     "text": [
      "WARNING:tensorflow:From c:\\program files\\python38\\lib\\site-packages\\tensorflow\\python\\ops\\resource_variable_ops.py:1813: calling BaseResourceVariable.__init__ (from tensorflow.python.ops.resource_variable_ops) with constraint is deprecated and will be removed in a future version.\n",
      "Instructions for updating:\n",
      "If using Keras pass *_constraint arguments to layers.\n",
      "INFO:tensorflow:Assets written to: trained_model\\assets\n"
     ]
    }
   ],
   "source": [
    "mdl.save('trained_model')"
   ]
  }
 ],
 "metadata": {
  "kernelspec": {
   "display_name": "Python 3",
   "language": "python",
   "name": "python3"
  },
  "language_info": {
   "codemirror_mode": {
    "name": "ipython",
    "version": 3
   },
   "file_extension": ".py",
   "mimetype": "text/x-python",
   "name": "python",
   "nbconvert_exporter": "python",
   "pygments_lexer": "ipython3",
   "version": "3.8.2"
  }
 },
 "nbformat": 4,
 "nbformat_minor": 4
}
